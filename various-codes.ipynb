{
 "cells": [
  {
   "cell_type": "code",
   "execution_count": 230,
   "metadata": {},
   "outputs": [],
   "source": [
    "#\n",
    "# greatest common divisor\n",
    "#\n",
    "def gcd(a, b):\n",
    "  assert a >= 0 and b >= 0 and a + b > 0\n",
    "\n",
    "  while a > 0 and b > 0:\n",
    "    if a >= b:\n",
    "      a = a % b\n",
    "    else:\n",
    "      b = b % a\n",
    "  return max(a, b)"
   ]
  },
  {
   "cell_type": "code",
   "execution_count": 231,
   "metadata": {},
   "outputs": [
    {
     "data": {
      "text/plain": [
       "5"
      ]
     },
     "execution_count": 231,
     "metadata": {},
     "output_type": "execute_result"
    }
   ],
   "source": [
    "gcd(10,5)"
   ]
  },
  {
   "cell_type": "code",
   "execution_count": 237,
   "metadata": {},
   "outputs": [],
   "source": [
    "#\n",
    "# Extended Euclid's algorithm for GCD\n",
    "#\n",
    "def gcd_extended(a,b):\n",
    "    assert a >= 0 and b >= 0 and a + b > 0\n",
    "    if b == 0:\n",
    "        return (a,1,0)\n",
    "    else:\n",
    "        (d,p,q) = gcd_extended(b, a % b)\n",
    "    \n",
    "    x = q\n",
    "    y = p - q*(a // b)\n",
    "    assert d == x*a + y*b\n",
    "    assert a % d==0 and b % d==0\n",
    "    return (d,x,y)"
   ]
  },
  {
   "cell_type": "code",
   "execution_count": 239,
   "metadata": {},
   "outputs": [
    {
     "data": {
      "text/plain": [
       "(1, 1, -2)"
      ]
     },
     "execution_count": 239,
     "metadata": {},
     "output_type": "execute_result"
    }
   ],
   "source": [
    "gcd_extended(7,3)"
   ]
  },
  {
   "cell_type": "code",
   "execution_count": 243,
   "metadata": {},
   "outputs": [],
   "source": [
    "#\n",
    "# Diophantine equation solver\n",
    "#\n",
    "def diophantine(a, b, c):\n",
    "    \n",
    "  d,x,y = gcd_extended(a,b)\n",
    "  assert c % d == 0\n",
    "  f = c/d   \n",
    "\n",
    "  return (f*x, f*y)"
   ]
  },
  {
   "cell_type": "code",
   "execution_count": 244,
   "metadata": {},
   "outputs": [
    {
     "data": {
      "text/plain": [
       "(33.0, -22.0)"
      ]
     },
     "execution_count": 244,
     "metadata": {},
     "output_type": "execute_result"
    }
   ],
   "source": [
    "diophantine(5,7,11)"
   ]
  },
  {
   "cell_type": "code",
   "execution_count": 245,
   "metadata": {
    "scrolled": true
   },
   "outputs": [],
   "source": [
    "#\n",
    "# multilplicative inverse of a\n",
    "#\n",
    "def mult_inv(a,b,n):\n",
    "\n",
    "  d,x,y = gcd(a,n)\n",
    "  assert d == 1\n",
    "\n",
    "  return (b*(x % n))% n "
   ]
  },
  {
   "cell_type": "code",
   "execution_count": 246,
   "metadata": {},
   "outputs": [
    {
     "data": {
      "text/plain": [
       "8"
      ]
     },
     "execution_count": 246,
     "metadata": {},
     "output_type": "execute_result"
    }
   ],
   "source": [
    "mult_inv(2,7,9)"
   ]
  },
  {
   "cell_type": "code",
   "execution_count": 42,
   "metadata": {},
   "outputs": [],
   "source": [
    "#\n",
    "# Chinese remainder theorem: finds an integer such that its remainder is r1*r2\n",
    "#\n",
    "def chinese_remainder(n1,r1,n2,r2):\n",
    "    d,x,y = gcd_extended(n1,n2)\n",
    "    return r2*x*n1+r1*y*n2"
   ]
  },
  {
   "cell_type": "code",
   "execution_count": 247,
   "metadata": {},
   "outputs": [
    {
     "data": {
      "text/plain": [
       "-2305179499644022607538539"
      ]
     },
     "execution_count": 247,
     "metadata": {},
     "output_type": "execute_result"
    }
   ],
   "source": [
    "chinese_remainder(686579304, 295310485, 26855093, 8217207)"
   ]
  },
  {
   "cell_type": "code",
   "execution_count": 252,
   "metadata": {},
   "outputs": [],
   "source": [
    "#\n",
    "# Improved algorithm for modular exponentiation\n",
    "#\n",
    "def FastModularExponentiation(b, k, m):\n",
    "  i = 0  \n",
    "  base = b\n",
    "  while i <= k:\n",
    "    r = base % m\n",
    "    base = r*r\n",
    "    i = i + 1\n",
    "  return r\n"
   ]
  },
  {
   "cell_type": "code",
   "execution_count": 253,
   "metadata": {},
   "outputs": [],
   "source": [
    "#\n",
    "# Improved algorithm for modular exponentiation, version two \n",
    "#\n",
    "def FastModularExponentiation2(b, e, m):\n",
    "  eb = dec_to_bin(e)\n",
    "  res = 1\n",
    "  for j in range(len(eb)):\n",
    "    i = len(eb) - j - 1\n",
    "    if eb[i] == '1':\n",
    "        bt = FastModularExponentiation(b, j, m)\n",
    "    else:\n",
    "        bt = 1\n",
    "    res = (res * bt) % m\n",
    "  return res"
   ]
  },
  {
   "cell_type": "code",
   "execution_count": 254,
   "metadata": {},
   "outputs": [
    {
     "data": {
      "text/plain": [
       "1"
      ]
     },
     "execution_count": 254,
     "metadata": {},
     "output_type": "execute_result"
    }
   ],
   "source": [
    "FastModularExponentiation(34,60,77)"
   ]
  },
  {
   "cell_type": "code",
   "execution_count": 251,
   "metadata": {},
   "outputs": [],
   "source": [
    "#\n",
    "# convert a number from decimal to binary representation\n",
    "#\n",
    "def dec_to_bin(x):\n",
    "    return str(bin(x)[2:])"
   ]
  },
  {
   "cell_type": "code",
   "execution_count": 255,
   "metadata": {},
   "outputs": [
    {
     "data": {
      "text/plain": [
       "'1011'"
      ]
     },
     "execution_count": 255,
     "metadata": {},
     "output_type": "execute_result"
    }
   ],
   "source": [
    "dec_to_bin(11)"
   ]
  }
 ],
 "metadata": {
  "kernelspec": {
   "display_name": "Python 3",
   "language": "python",
   "name": "python3"
  },
  "language_info": {
   "codemirror_mode": {
    "name": "ipython",
    "version": 3
   },
   "file_extension": ".py",
   "mimetype": "text/x-python",
   "name": "python",
   "nbconvert_exporter": "python",
   "pygments_lexer": "ipython3",
   "version": "3.7.3"
  }
 },
 "nbformat": 4,
 "nbformat_minor": 2
}
